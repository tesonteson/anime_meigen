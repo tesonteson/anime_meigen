{
 "cells": [
  {
   "cell_type": "markdown",
   "metadata": {},
   "source": [
    "# 文章の類似度によるラベル付与"
   ]
  },
  {
   "cell_type": "code",
   "execution_count": 20,
   "metadata": {},
   "outputs": [
    {
     "data": {
      "text/html": [
       "<div>\n",
       "<style scoped>\n",
       "    .dataframe tbody tr th:only-of-type {\n",
       "        vertical-align: middle;\n",
       "    }\n",
       "\n",
       "    .dataframe tbody tr th {\n",
       "        vertical-align: top;\n",
       "    }\n",
       "\n",
       "    .dataframe thead th {\n",
       "        text-align: right;\n",
       "    }\n",
       "</style>\n",
       "<table border=\"1\" class=\"dataframe\">\n",
       "  <thead>\n",
       "    <tr style=\"text-align: right;\">\n",
       "      <th></th>\n",
       "      <th>meigen</th>\n",
       "      <th>anime</th>\n",
       "      <th>character</th>\n",
       "    </tr>\n",
       "  </thead>\n",
       "  <tbody>\n",
       "    <tr>\n",
       "      <th>0</th>\n",
       "      <td>「(会話を)どこに投げてんのよ!!」(紅莉栖)</td>\n",
       "      <td>シュタインズ・ゲート</td>\n",
       "      <td>[紅莉栖]</td>\n",
       "    </tr>\n",
       "    <tr>\n",
       "      <th>1</th>\n",
       "      <td>「4日後、8月15日。お前の死はこの世界によって決められている。避けられやしない！　だが、俺...</td>\n",
       "      <td>シュタインズ・ゲート</td>\n",
       "      <td>[岡部]</td>\n",
       "    </tr>\n",
       "    <tr>\n",
       "      <th>2</th>\n",
       "      <td>「70年台だって、悪くないよ。そこでまた君たちみたいな友だちを作って、自由に生きていく」(鈴羽)</td>\n",
       "      <td>シュタインズ・ゲート</td>\n",
       "      <td>[鈴羽]</td>\n",
       "    </tr>\n",
       "    <tr>\n",
       "      <th>3</th>\n",
       "      <td>「SERNに捕らえられたそのメールを消し、ベータ世界線に戻るということは、つまりその世界に戻...</td>\n",
       "      <td>シュタインズ・ゲート</td>\n",
       "      <td>[岡部]</td>\n",
       "    </tr>\n",
       "    <tr>\n",
       "      <th>4</th>\n",
       "      <td>「『漆原るか』。声も仕草も、女にしか見えない。いや、女より女らしい美少女。だが男だ！」(岡部)</td>\n",
       "      <td>シュタインズ・ゲート</td>\n",
       "      <td>[岡部]</td>\n",
       "    </tr>\n",
       "  </tbody>\n",
       "</table>\n",
       "</div>"
      ],
      "text/plain": [
       "                                              meigen       anime character\n",
       "0                            「(会話を)どこに投げてんのよ!!」(紅莉栖)  シュタインズ・ゲート     [紅莉栖]\n",
       "1  「4日後、8月15日。お前の死はこの世界によって決められている。避けられやしない！　だが、俺...  シュタインズ・ゲート      [岡部]\n",
       "2   「70年台だって、悪くないよ。そこでまた君たちみたいな友だちを作って、自由に生きていく」(鈴羽)  シュタインズ・ゲート      [鈴羽]\n",
       "3  「SERNに捕らえられたそのメールを消し、ベータ世界線に戻るということは、つまりその世界に戻...  シュタインズ・ゲート      [岡部]\n",
       "4    「『漆原るか』。声も仕草も、女にしか見えない。いや、女より女らしい美少女。だが男だ！」(岡部)  シュタインズ・ゲート      [岡部]"
      ]
     },
     "execution_count": 20,
     "metadata": {},
     "output_type": "execute_result"
    }
   ],
   "source": [
    "import pandas as pd\n",
    "\n",
    "meigen_data = pd.read_pickle(\"data/meigen.pkl\")\n",
    "meigen_data.head()"
   ]
  },
  {
   "cell_type": "code",
   "execution_count": 21,
   "metadata": {},
   "outputs": [],
   "source": [
    "from transformers import AutoTokenizer, AutoModel\n",
    "import torch\n",
    "\n",
    "tokenizer = AutoTokenizer.from_pretrained(\"pkshatech/GLuCoSE-base-ja\")\n",
    "model = AutoModel.from_pretrained(\"pkshatech/GLuCoSE-base-ja\")"
   ]
  },
  {
   "cell_type": "code",
   "execution_count": 22,
   "metadata": {},
   "outputs": [],
   "source": [
    "def get_embedding(text):\n",
    "    inputs = tokenizer(text, return_tensors=\"pt\", padding=True, truncation=True, max_length=512)\n",
    "    with torch.no_grad():\n",
    "        outputs = model(**inputs)\n",
    "    last_hidden_states = outputs.last_hidden_state\n",
    "    embeddings = torch.mean(last_hidden_states, dim=1).tolist()[0]\n",
    "    return embeddings\n",
    "\n",
    "meigen_data[\"meigen_embedding\"] = meigen_data[\"meigen\"].apply(get_embedding)"
   ]
  },
  {
   "cell_type": "code",
   "execution_count": 23,
   "metadata": {},
   "outputs": [
    {
     "data": {
      "text/html": [
       "<div>\n",
       "<style scoped>\n",
       "    .dataframe tbody tr th:only-of-type {\n",
       "        vertical-align: middle;\n",
       "    }\n",
       "\n",
       "    .dataframe tbody tr th {\n",
       "        vertical-align: top;\n",
       "    }\n",
       "\n",
       "    .dataframe thead th {\n",
       "        text-align: right;\n",
       "    }\n",
       "</style>\n",
       "<table border=\"1\" class=\"dataframe\">\n",
       "  <thead>\n",
       "    <tr style=\"text-align: right;\">\n",
       "      <th></th>\n",
       "      <th>meigen</th>\n",
       "      <th>anime</th>\n",
       "      <th>character</th>\n",
       "      <th>meigen_embedding</th>\n",
       "    </tr>\n",
       "  </thead>\n",
       "  <tbody>\n",
       "    <tr>\n",
       "      <th>0</th>\n",
       "      <td>「(会話を)どこに投げてんのよ!!」(紅莉栖)</td>\n",
       "      <td>シュタインズ・ゲート</td>\n",
       "      <td>[紅莉栖]</td>\n",
       "      <td>[-0.561347484588623, -0.5458228588104248, -0.1...</td>\n",
       "    </tr>\n",
       "    <tr>\n",
       "      <th>1</th>\n",
       "      <td>「4日後、8月15日。お前の死はこの世界によって決められている。避けられやしない！　だが、俺...</td>\n",
       "      <td>シュタインズ・ゲート</td>\n",
       "      <td>[岡部]</td>\n",
       "      <td>[-0.19380775094032288, 0.1803627908229828, 0.3...</td>\n",
       "    </tr>\n",
       "    <tr>\n",
       "      <th>2</th>\n",
       "      <td>「70年台だって、悪くないよ。そこでまた君たちみたいな友だちを作って、自由に生きていく」(鈴羽)</td>\n",
       "      <td>シュタインズ・ゲート</td>\n",
       "      <td>[鈴羽]</td>\n",
       "      <td>[0.18892811238765717, -0.04539930820465088, -0...</td>\n",
       "    </tr>\n",
       "    <tr>\n",
       "      <th>3</th>\n",
       "      <td>「SERNに捕らえられたそのメールを消し、ベータ世界線に戻るということは、つまりその世界に戻...</td>\n",
       "      <td>シュタインズ・ゲート</td>\n",
       "      <td>[岡部]</td>\n",
       "      <td>[-0.9506322741508484, 0.37638235092163086, 0.1...</td>\n",
       "    </tr>\n",
       "    <tr>\n",
       "      <th>4</th>\n",
       "      <td>「『漆原るか』。声も仕草も、女にしか見えない。いや、女より女らしい美少女。だが男だ！」(岡部)</td>\n",
       "      <td>シュタインズ・ゲート</td>\n",
       "      <td>[岡部]</td>\n",
       "      <td>[-0.09074414521455765, -0.6516573429107666, 0....</td>\n",
       "    </tr>\n",
       "  </tbody>\n",
       "</table>\n",
       "</div>"
      ],
      "text/plain": [
       "                                              meigen       anime character  \\\n",
       "0                            「(会話を)どこに投げてんのよ!!」(紅莉栖)  シュタインズ・ゲート     [紅莉栖]   \n",
       "1  「4日後、8月15日。お前の死はこの世界によって決められている。避けられやしない！　だが、俺...  シュタインズ・ゲート      [岡部]   \n",
       "2   「70年台だって、悪くないよ。そこでまた君たちみたいな友だちを作って、自由に生きていく」(鈴羽)  シュタインズ・ゲート      [鈴羽]   \n",
       "3  「SERNに捕らえられたそのメールを消し、ベータ世界線に戻るということは、つまりその世界に戻...  シュタインズ・ゲート      [岡部]   \n",
       "4    「『漆原るか』。声も仕草も、女にしか見えない。いや、女より女らしい美少女。だが男だ！」(岡部)  シュタインズ・ゲート      [岡部]   \n",
       "\n",
       "                                    meigen_embedding  \n",
       "0  [-0.561347484588623, -0.5458228588104248, -0.1...  \n",
       "1  [-0.19380775094032288, 0.1803627908229828, 0.3...  \n",
       "2  [0.18892811238765717, -0.04539930820465088, -0...  \n",
       "3  [-0.9506322741508484, 0.37638235092163086, 0.1...  \n",
       "4  [-0.09074414521455765, -0.6516573429107666, 0....  "
      ]
     },
     "execution_count": 23,
     "metadata": {},
     "output_type": "execute_result"
    }
   ],
   "source": [
    "meigen_data.head()"
   ]
  },
  {
   "cell_type": "markdown",
   "metadata": {},
   "source": [
    "# LDAによるラベル付与"
   ]
  },
  {
   "cell_type": "code",
   "execution_count": null,
   "metadata": {},
   "outputs": [],
   "source": []
  },
  {
   "cell_type": "markdown",
   "metadata": {},
   "source": [
    "# クラスタリングによるラベル付与"
   ]
  },
  {
   "cell_type": "code",
   "execution_count": null,
   "metadata": {},
   "outputs": [],
   "source": []
  }
 ],
 "metadata": {
  "kernelspec": {
   "display_name": "Python 3",
   "language": "python",
   "name": "python3"
  },
  "language_info": {
   "codemirror_mode": {
    "name": "ipython",
    "version": 3
   },
   "file_extension": ".py",
   "mimetype": "text/x-python",
   "name": "python",
   "nbconvert_exporter": "python",
   "pygments_lexer": "ipython3",
   "version": "3.11.2"
  }
 },
 "nbformat": 4,
 "nbformat_minor": 2
}
